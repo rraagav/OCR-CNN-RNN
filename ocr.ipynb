{
 "cells": [
  {
   "cell_type": "code",
   "execution_count": 29,
   "metadata": {},
   "outputs": [],
   "source": [
    "import os\n",
    "import nltk\n",
    "from nltk.corpus import words\n",
    "from PIL import Image, ImageDraw, ImageFont\n",
    "import matplotlib.pyplot as plt\n",
    "import string\n",
    "import csv\n",
    "from tqdm import tqdm\n",
    "import torch\n",
    "import torch.optim as optim\n",
    "from torch.utils.data import Dataset, DataLoader\n",
    "from torchvision import transforms\n",
    "import torch.nn as nn\n",
    "import random\n",
    "import time\n",
    "from tqdm import tqdm"
   ]
  },
  {
   "cell_type": "code",
   "execution_count": 30,
   "metadata": {},
   "outputs": [],
   "source": [
    "# nltk.download('words')\n",
    "\n",
    "# word_list = words.words()\n",
    "\n",
    "# print(f\"Total words available: {len(word_list)}\")\n",
    "\n",
    "# random.shuffle(word_list)\n",
    "# selected_words = word_list[:100000]\n",
    "\n",
    "# output_dir = 'dataset'\n",
    "# os.makedirs(output_dir, exist_ok=True)\n",
    "\n",
    "# img_width, img_height = 256, 64\n",
    "\n",
    "# font_path = 'arial.ttf'  \n",
    "# initial_font_size = 48"
   ]
  },
  {
   "cell_type": "code",
   "execution_count": 31,
   "metadata": {},
   "outputs": [],
   "source": [
    "# def render_word_to_image(word, idx):\n",
    "#     font = ImageFont.truetype(font_path, initial_font_size)\n",
    "#     img = Image.new('RGB', (img_width, img_height), color='white')\n",
    "#     draw = ImageDraw.Draw(img)\n",
    "\n",
    "#     bbox = draw.textbbox((0, 0), word, font=font)\n",
    "#     text_width = bbox[2] - bbox[0]\n",
    "#     text_height = bbox[3] - bbox[1]\n",
    "#     x = (img_width - text_width) / 2\n",
    "#     y = (img_height - text_height) / 2\n",
    "\n",
    "#     while text_width > img_width - 10:\n",
    "#         font_size_adjusted = font.size - 1\n",
    "#         if font_size_adjusted < 10:\n",
    "#             break  \n",
    "#         font = ImageFont.truetype(font_path, font_size_adjusted)\n",
    "#         bbox = draw.textbbox((0, 0), word, font=font)\n",
    "#         text_width = bbox[2] - bbox[0]\n",
    "#         text_height = bbox[3] - bbox[1]\n",
    "#         x = (img_width - text_width) / 2\n",
    "#         y = (img_height - text_height) / 2\n",
    "\n",
    "#     draw.text((x, y), word, fill='black', font=font)\n",
    "\n",
    "#     img.save(os.path.join(output_dir, f'{idx}_{word}.png'))\n",
    "\n",
    "# start_time = time.time()\n",
    "\n",
    "# for idx, word in enumerate(tqdm(selected_words, desc=\"Generating images\", unit=\"image\")):\n",
    "#     render_word_to_image(word, idx)\n",
    "\n",
    "# end_time = time.time()\n",
    "\n",
    "# total_time = end_time - start_time\n",
    "# print(total_time)"
   ]
  },
  {
   "cell_type": "code",
   "execution_count": 32,
   "metadata": {},
   "outputs": [],
   "source": [
    "# def display_image(idx, word):\n",
    "#     img_path = os.path.join(output_dir, f'{idx}_{word}.png')\n",
    "#     img = Image.open(img_path)\n",
    "#     plt.imshow(img)\n",
    "#     plt.axis('off')\n",
    "#     plt.title(f'Image for word: {word}')\n",
    "#     plt.show()\n",
    "\n",
    "# for i in random.sample(range(len(selected_words)), 3):\n",
    "#     display_image(i, selected_words[i])"
   ]
  },
  {
   "cell_type": "code",
   "execution_count": 33,
   "metadata": {},
   "outputs": [],
   "source": [
    "# labels_path = os.path.join(output_dir, 'labels.csv')\n",
    "\n",
    "# with open(labels_path, 'w', newline='') as csvfile:\n",
    "#     label_writer = csv.writer(csvfile)\n",
    "#     label_writer.writerow(['filename', 'word']) \n",
    "#     for idx, word in enumerate(selected_words):\n",
    "#         filename = f'{idx}_{word}.png'\n",
    "#         label_writer.writerow([filename, word])"
   ]
  },
  {
   "cell_type": "code",
   "execution_count": 34,
   "metadata": {},
   "outputs": [],
   "source": [
    "charset = '-' + string.ascii_letters + string.digits + string.punctuation + ' '\n",
    "char_to_idx = {char: idx for idx, char in enumerate(charset)}\n",
    "idx_to_char = {idx: char for char, idx in char_to_idx.items()}\n",
    "num_classes = len(charset)"
   ]
  },
  {
   "cell_type": "code",
   "execution_count": 35,
   "metadata": {},
   "outputs": [],
   "source": [
    "class OCRDataset(Dataset):\n",
    "    def __init__(self, csv_file, root_dir, transform=None):\n",
    "        import pandas as pd\n",
    "        self.annotations = pd.read_csv(csv_file, dtype={'filename': str, 'word': str})\n",
    "        self.annotations['word'] = self.annotations['word'].fillna('')\n",
    "        self.root_dir = root_dir\n",
    "        self.transform = transform\n",
    "\n",
    "    def __len__(self):\n",
    "        return len(self.annotations)\n",
    "\n",
    "    def __getitem__(self, idx):\n",
    "        img_name = os.path.join(self.root_dir, self.annotations.iloc[idx, 0])\n",
    "        image = Image.open(img_name).convert('L')  \n",
    "        word = self.annotations.iloc[idx, 1]\n",
    "\n",
    "        if not isinstance(word, str):\n",
    "            word = str(word)\n",
    "\n",
    "        word = word.lower()\n",
    "\n",
    "        if self.transform:\n",
    "            image = self.transform(image)\n",
    "        label = [char_to_idx.get(char, 0) for char in word if char in char_to_idx]\n",
    "\n",
    "        return image, torch.tensor(label, dtype=torch.long)"
   ]
  },
  {
   "cell_type": "code",
   "execution_count": 36,
   "metadata": {},
   "outputs": [],
   "source": [
    "transform = transforms.Compose([\n",
    "    transforms.Resize((64, 256)), \n",
    "    transforms.ToTensor(),        \n",
    "    transforms.Normalize((0.5,), (0.5,))\n",
    "])"
   ]
  },
  {
   "cell_type": "code",
   "execution_count": 37,
   "metadata": {},
   "outputs": [],
   "source": [
    "def collate_fn(batch):\n",
    "    images, labels = zip(*batch)\n",
    "    images = torch.stack(images, 0)\n",
    "    label_lengths = torch.tensor([len(label) for label in labels], dtype=torch.long)\n",
    "    labels = torch.cat(labels)\n",
    "    return images, labels, label_lengths"
   ]
  },
  {
   "cell_type": "code",
   "execution_count": 38,
   "metadata": {},
   "outputs": [],
   "source": [
    "labels_path = r\"C:\\Users\\raaga\\OneDrive\\Desktop\\IIIT-H\\3-1\\SMAI\\smai-m24-assignments-rraagav\\assignments\\5\\figures\\labels.csv\"\n",
    "output_dir = r\"C:\\Users\\raaga\\OneDrive\\Desktop\\IIIT-H\\3-1\\SMAI\\smai-m24-assignments-rraagav\\data\\interim\\5\\dataset\"\n",
    "\n",
    "dataset = OCRDataset(csv_file=labels_path, root_dir=output_dir, transform=transform)\n",
    "\n",
    "from sklearn.model_selection import train_test_split\n",
    "\n",
    "indices = list(range(len(dataset)))\n",
    "train_indices, val_test_indices = train_test_split(indices, test_size=0.2, random_state=42)\n",
    "val_indices, test_indices = train_test_split(val_test_indices, test_size=0.5, random_state=42)\n",
    "\n",
    "from torch.utils.data import Subset\n",
    "\n",
    "train_dataset = Subset(dataset, train_indices)\n",
    "val_dataset = Subset(dataset, val_indices)\n",
    "test_dataset = Subset(dataset, test_indices)\n",
    "\n",
    "train_loader = DataLoader(train_dataset, batch_size=64, shuffle=True, num_workers=0, collate_fn=collate_fn)\n",
    "val_loader = DataLoader(val_dataset, batch_size=64, shuffle=False, num_workers=0, collate_fn=collate_fn)\n",
    "test_loader = DataLoader(test_dataset, batch_size=64, shuffle=False, num_workers=0, collate_fn=collate_fn)"
   ]
  },
  {
   "cell_type": "code",
   "execution_count": 39,
   "metadata": {},
   "outputs": [],
   "source": [
    "class CNNEncoder(nn.Module):\n",
    "    def __init__(self):\n",
    "        super(CNNEncoder, self).__init__()\n",
    "        self.cnn = nn.Sequential(\n",
    "            nn.Conv2d(1, 64, kernel_size=3, padding=1),  \n",
    "            nn.BatchNorm2d(64),\n",
    "            nn.ReLU(True),\n",
    "            nn.MaxPool2d(2, 2),  \n",
    "\n",
    "            nn.Conv2d(64, 128, kernel_size=3, padding=1), \n",
    "            nn.BatchNorm2d(128),\n",
    "            nn.ReLU(True),\n",
    "            nn.MaxPool2d(2, 2), \n",
    "        )\n",
    "\n",
    "    def forward(self, x):\n",
    "        x = self.cnn(x)\n",
    "        return x"
   ]
  },
  {
   "cell_type": "code",
   "execution_count": 40,
   "metadata": {},
   "outputs": [],
   "source": [
    "class RNNDecoder(nn.Module):\n",
    "    def __init__(self, input_size, hidden_size, num_classes):\n",
    "        super(RNNDecoder, self).__init__()\n",
    "        self.lstm = nn.LSTM(input_size, hidden_size, num_layers=2, bidirectional=True, batch_first=True)\n",
    "        self.fc = nn.Linear(hidden_size * 2, num_classes)\n",
    "        self.log_softmax = nn.LogSoftmax(dim=2) \n",
    "    \n",
    "    def forward(self, x):\n",
    "        self.lstm.flatten_parameters()\n",
    "        x, _ = self.lstm(x)\n",
    "        x = self.fc(x)\n",
    "        x = self.log_softmax(x)  \n",
    "        return x"
   ]
  },
  {
   "cell_type": "code",
   "execution_count": 41,
   "metadata": {},
   "outputs": [],
   "source": [
    "class CRNN(nn.Module):\n",
    "    def __init__(self, num_classes):\n",
    "        super(CRNN, self).__init__()\n",
    "        self.encoder = CNNEncoder()\n",
    "        self.fc = nn.Linear(2048, 128)\n",
    "        self.decoder = RNNDecoder(input_size=128, hidden_size=256, num_classes=num_classes)\n",
    "\n",
    "    def forward(self, x):\n",
    "        x = self.encoder(x)\n",
    "        b, c, h, w = x.size()\n",
    "        x = x.permute(0, 3, 1, 2)  \n",
    "        x = x.view(b, w, c * h)    \n",
    "\n",
    "        x = self.fc(x)             \n",
    "\n",
    "        x = self.decoder(x)        \n",
    "        x = x.permute(1, 0, 2)\n",
    "        return x"
   ]
  },
  {
   "cell_type": "code",
   "execution_count": 42,
   "metadata": {},
   "outputs": [],
   "source": [
    "device = torch.device('cuda' if torch.cuda.is_available() else 'cpu')\n",
    "model = CRNN(num_classes=num_classes).to(device)\n",
    "criterion = nn.CTCLoss(blank=0, zero_infinity=True)\n",
    "optimizer = optim.Adam(model.parameters(), lr=0.005)"
   ]
  },
  {
   "cell_type": "code",
   "execution_count": 43,
   "metadata": {},
   "outputs": [],
   "source": [
    "def train(model, device, train_loader, criterion, optimizer, epoch):\n",
    "    model.train()\n",
    "    print(\"Starting training...\")\n",
    "    running_loss = 0.0\n",
    "    with tqdm(total=len(train_loader), desc=f\"Epoch {epoch}\", unit=\"batch\") as pbar:\n",
    "        for batch_idx, (images, labels, label_lengths) in enumerate(train_loader):\n",
    "            # print(f\"Processing batch {batch_idx+1}/{len(train_loader)}\")\n",
    "            images = images.to(device)\n",
    "            labels = labels.to(device)\n",
    "            label_lengths = label_lengths.to(device)\n",
    "            optimizer.zero_grad()\n",
    "\n",
    "            outputs = model(images)  #[T, B, num_classes]\n",
    "            batch_size = images.size(0)\n",
    "            input_lengths = torch.full(size=(batch_size,), fill_value=outputs.size(0), dtype=torch.long).to(device)\n",
    "\n",
    "            loss = criterion(outputs, labels, input_lengths, label_lengths)\n",
    "            loss.backward()\n",
    "            optimizer.step()\n",
    "\n",
    "            running_loss += loss.item()\n",
    "\n",
    "            pbar.set_postfix(loss=loss.item())\n",
    "            pbar.update(1)\n",
    "\n",
    "            if batch_idx % 100 == 0:\n",
    "                print(f'Epoch {epoch} [{batch_idx * len(images)}/{len(train_loader.dataset)}] Loss: {loss.item():.4f}')\n",
    "\n",
    "    avg_loss = running_loss / len(train_loader)\n",
    "    print(f\"Epoch {epoch} Training Loss: {avg_loss:.4f}\")\n",
    "    return avg_loss\n",
    "\n",
    "def validate(model, device, val_loader, criterion):\n",
    "    model.eval()\n",
    "    val_loss = 0.0\n",
    "    with tqdm(total=len(val_loader), desc=\"Validation\", unit=\"batch\") as pbar:\n",
    "        with torch.no_grad():\n",
    "            for images, labels, label_lengths in val_loader:\n",
    "                images = images.to(device)\n",
    "                labels = labels.to(device)\n",
    "                label_lengths = label_lengths.to(device)\n",
    "                outputs = model(images)\n",
    "                batch_size = images.size(0)\n",
    "                input_lengths = torch.full(size=(batch_size,), fill_value=outputs.size(0), dtype=torch.long).to(device)\n",
    "                \n",
    "                loss = criterion(outputs, labels, input_lengths, label_lengths)\n",
    "                val_loss += loss.item()\n",
    "                \n",
    "                pbar.set_postfix(loss=loss.item())\n",
    "                pbar.update(1)\n",
    "\n",
    "    val_loss /= len(val_loader)\n",
    "    print(f'Validation Loss: {val_loss:.4f}')\n",
    "    return val_loss"
   ]
  },
  {
   "cell_type": "code",
   "execution_count": 44,
   "metadata": {},
   "outputs": [
    {
     "name": "stdout",
     "output_type": "stream",
     "text": [
      "Images shape: torch.Size([2, 1, 64, 256])\n",
      "Labels: tensor([18,  5, 22,  5, 14,  5,  5, 18, 20,  5, 12,  5, 16,  1, 20,  8, 25])\n",
      "Label lengths: tensor([8, 9])\n",
      "Model output shape: torch.Size([64, 64, 96])\n",
      "Sample outputs: tensor([[-4.6019, -4.5100, -4.5462, -4.5696, -4.5518],\n",
      "        [-4.6021, -4.5065, -4.5435, -4.5705, -4.5471],\n",
      "        [-4.6008, -4.5034, -4.5426, -4.5720, -4.5457],\n",
      "        [-4.5991, -4.5020, -4.5420, -4.5728, -4.5455],\n",
      "        [-4.5975, -4.5010, -4.5416, -4.5735, -4.5460],\n",
      "        [-4.5959, -4.5000, -4.5413, -4.5745, -4.5469],\n",
      "        [-4.5942, -4.4986, -4.5409, -4.5758, -4.5481],\n",
      "        [-4.5920, -4.4964, -4.5406, -4.5777, -4.5498],\n",
      "        [-4.5891, -4.4929, -4.5401, -4.5804, -4.5517],\n",
      "        [-4.5850, -4.4875, -4.5393, -4.5837, -4.5531],\n",
      "        [-4.5803, -4.4799, -4.5340, -4.5849, -4.5540],\n",
      "        [-4.5793, -4.4801, -4.5175, -4.5895, -4.5444],\n",
      "        [-4.5782, -4.4761, -4.5001, -4.5903, -4.5391],\n",
      "        [-4.5700, -4.4749, -4.4930, -4.5946, -4.5492],\n",
      "        [-4.5692, -4.4726, -4.4921, -4.5917, -4.5599],\n",
      "        [-4.5695, -4.4828, -4.4963, -4.5947, -4.5605],\n",
      "        [-4.5719, -4.4861, -4.4999, -4.5987, -4.5583],\n",
      "        [-4.5778, -4.4848, -4.5030, -4.5914, -4.5640],\n",
      "        [-4.5733, -4.4831, -4.4949, -4.5923, -4.5613],\n",
      "        [-4.5717, -4.4891, -4.4839, -4.5922, -4.5494],\n",
      "        [-4.5687, -4.4950, -4.4764, -4.5936, -4.5494],\n",
      "        [-4.5699, -4.5059, -4.4829, -4.5896, -4.5498],\n",
      "        [-4.5728, -4.5069, -4.4928, -4.5970, -4.5537],\n",
      "        [-4.5795, -4.5063, -4.5049, -4.5959, -4.5647],\n",
      "        [-4.5908, -4.5054, -4.5097, -4.5948, -4.5611],\n",
      "        [-4.5947, -4.5021, -4.5096, -4.6014, -4.5560],\n",
      "        [-4.5943, -4.5032, -4.5074, -4.6017, -4.5492],\n",
      "        [-4.5849, -4.5012, -4.5069, -4.5938, -4.5526],\n",
      "        [-4.5765, -4.5038, -4.5061, -4.5908, -4.5544],\n",
      "        [-4.5701, -4.4977, -4.5075, -4.5975, -4.5565],\n",
      "        [-4.5714, -4.4914, -4.5054, -4.5980, -4.5657],\n",
      "        [-4.5738, -4.4827, -4.4981, -4.6011, -4.5625],\n",
      "        [-4.5761, -4.4799, -4.4908, -4.6034, -4.5535],\n",
      "        [-4.5741, -4.4802, -4.4852, -4.6014, -4.5538],\n",
      "        [-4.5694, -4.4848, -4.4885, -4.5964, -4.5605],\n",
      "        [-4.5714, -4.4871, -4.4941, -4.5980, -4.5648],\n",
      "        [-4.5748, -4.4966, -4.5005, -4.6000, -4.5649],\n",
      "        [-4.5788, -4.5036, -4.5017, -4.5997, -4.5632],\n",
      "        [-4.5795, -4.5041, -4.5023, -4.6011, -4.5527],\n",
      "        [-4.5833, -4.5027, -4.5041, -4.5954, -4.5558],\n",
      "        [-4.5801, -4.4966, -4.5059, -4.5889, -4.5618],\n",
      "        [-4.5784, -4.4915, -4.5061, -4.5869, -4.5618],\n",
      "        [-4.5736, -4.4862, -4.4944, -4.5912, -4.5514],\n",
      "        [-4.5697, -4.4880, -4.4872, -4.5889, -4.5501],\n",
      "        [-4.5665, -4.4919, -4.4854, -4.5896, -4.5491],\n",
      "        [-4.5704, -4.4976, -4.4890, -4.5887, -4.5494],\n",
      "        [-4.5747, -4.4942, -4.4994, -4.5950, -4.5534],\n",
      "        [-4.5815, -4.4935, -4.4978, -4.5964, -4.5592],\n",
      "        [-4.5842, -4.4864, -4.4913, -4.5996, -4.5540],\n",
      "        [-4.5876, -4.4858, -4.4836, -4.5981, -4.5463],\n",
      "        [-4.5835, -4.4873, -4.4811, -4.5932, -4.5476],\n",
      "        [-4.5791, -4.4927, -4.4880, -4.5845, -4.5494],\n",
      "        [-4.5785, -4.5018, -4.4972, -4.5884, -4.5462],\n",
      "        [-4.5850, -4.5075, -4.5071, -4.5850, -4.5471],\n",
      "        [-4.5916, -4.5103, -4.5155, -4.5796, -4.5473],\n",
      "        [-4.5953, -4.5087, -4.5232, -4.5779, -4.5480],\n",
      "        [-4.5968, -4.5065, -4.5287, -4.5760, -4.5481],\n",
      "        [-4.5970, -4.5047, -4.5322, -4.5745, -4.5481],\n",
      "        [-4.5964, -4.5037, -4.5341, -4.5734, -4.5481],\n",
      "        [-4.5952, -4.5035, -4.5347, -4.5727, -4.5482],\n",
      "        [-4.5933, -4.5042, -4.5338, -4.5721, -4.5486],\n",
      "        [-4.5907, -4.5059, -4.5311, -4.5715, -4.5488],\n",
      "        [-4.5871, -4.5086, -4.5260, -4.5707, -4.5481],\n",
      "        [-4.5824, -4.5119, -4.5207, -4.5715, -4.5404]], device='cuda:0',\n",
      "       grad_fn=<SliceBackward0>)\n"
     ]
    }
   ],
   "source": [
    "sample_loader = DataLoader(train_dataset, batch_size=2, shuffle=True, collate_fn=collate_fn)\n",
    "\n",
    "for images, labels, label_lengths in sample_loader:\n",
    "    print(\"Images shape:\", images.shape)\n",
    "    print(\"Labels:\", labels)\n",
    "    print(\"Label lengths:\", label_lengths)\n",
    "    break\n",
    "\n",
    "images, labels, label_lengths = next(iter(train_loader))\n",
    "images = images.to(device)\n",
    "outputs = model(images)\n",
    "print(\"Model output shape:\", outputs.shape)\n",
    "print(\"Sample outputs:\", outputs[:, 0, :5])  "
   ]
  },
  {
   "cell_type": "code",
   "execution_count": 45,
   "metadata": {},
   "outputs": [
    {
     "name": "stdout",
     "output_type": "stream",
     "text": [
      "Model output shape: torch.Size([64, 64, 96])\n"
     ]
    }
   ],
   "source": [
    "images, labels, label_lengths = next(iter(train_loader))\n",
    "images = images.to(device)\n",
    "outputs = model(images)\n",
    "print(\"Model output shape:\", outputs.shape)"
   ]
  },
  {
   "cell_type": "code",
   "execution_count": 46,
   "metadata": {},
   "outputs": [],
   "source": [
    "def decode_predictions(outputs):\n",
    "    #[W, B, num_classes]\n",
    "    outputs = outputs.permute(1, 0, 2)  \n",
    "    predictions = []\n",
    "    for output in outputs:\n",
    "        _, max_indices = torch.max(output, dim=1)\n",
    "        indices = max_indices.cpu().numpy()\n",
    "        decoded = []\n",
    "        prev_idx = -1\n",
    "        for idx in indices:\n",
    "            if idx != prev_idx and idx != 0:\n",
    "                decoded.append(idx)\n",
    "            prev_idx = idx\n",
    "        text = ''.join([idx_to_char[idx] for idx in decoded])\n",
    "        predictions.append(text)\n",
    "    return predictions"
   ]
  },
  {
   "cell_type": "code",
   "execution_count": 47,
   "metadata": {},
   "outputs": [],
   "source": [
    "def evaluate(model, device, data_loader):\n",
    "    model.eval()\n",
    "    total_correct_chars = 0\n",
    "    total_chars = 0\n",
    "    with torch.no_grad():\n",
    "        for images, labels, label_lengths in data_loader:\n",
    "            images = images.to(device)\n",
    "            outputs = model(images)\n",
    "            predictions = decode_predictions(outputs)\n",
    "            \n",
    "            labels_cpu = labels.cpu().numpy()\n",
    "            label_lengths_cpu = label_lengths.cpu().numpy()\n",
    "            idx = 0\n",
    "            ground_truths = []\n",
    "            for length in label_lengths_cpu:\n",
    "                word_indices = labels_cpu[idx:idx+length]\n",
    "                word = ''.join([idx_to_char[i] for i in word_indices])\n",
    "                ground_truths.append(word)\n",
    "                idx += length\n",
    "\n",
    "            for pred, gt in zip(predictions, ground_truths):\n",
    "                correct_chars = sum(1 for p, g in zip(pred, gt) if p == g)\n",
    "                total_correct_chars += correct_chars\n",
    "                total_chars += len(gt)\n",
    "    ancc = total_correct_chars / total_chars\n",
    "    print(f'Average Number of Correct Characters: {ancc:.4f}')\n",
    "    return ancc"
   ]
  },
  {
   "cell_type": "code",
   "execution_count": 48,
   "metadata": {},
   "outputs": [],
   "source": [
    "def random_baseline(data_loader):\n",
    "    total_correct_chars = 0\n",
    "    total_chars = 0\n",
    "    charset_without_blank = charset[1:] \n",
    "    for _, labels, label_lengths in data_loader:\n",
    "        labels_cpu = labels.cpu().numpy()\n",
    "        label_lengths_cpu = label_lengths.cpu().numpy()\n",
    "        idx = 0\n",
    "        ground_truths = []\n",
    "        for length in label_lengths_cpu:\n",
    "            word_indices = labels_cpu[idx:idx+length]\n",
    "            word = ''.join([idx_to_char[i] for i in word_indices])\n",
    "            ground_truths.append(word)\n",
    "            idx += length\n",
    "\n",
    "        for gt in ground_truths:\n",
    "            random_pred = ''.join(random.choice(charset_without_blank) for _ in range(len(gt)))\n",
    "            correct_chars = sum(1 for p, g in zip(random_pred, gt) if p == g)\n",
    "            total_correct_chars += correct_chars\n",
    "            total_chars += len(gt)\n",
    "    ancc = total_correct_chars / total_chars\n",
    "    print(f'Random Baseline ANCC: {ancc:.4f}')\n",
    "    return ancc"
   ]
  },
  {
   "cell_type": "code",
   "execution_count": null,
   "metadata": {},
   "outputs": [
    {
     "name": "stdout",
     "output_type": "stream",
     "text": [
      "Starting training...\n"
     ]
    },
    {
     "name": "stderr",
     "output_type": "stream",
     "text": [
      "Epoch 1:   0%|          | 1/1250 [00:00<03:07,  6.64batch/s, loss=28.7]"
     ]
    },
    {
     "name": "stdout",
     "output_type": "stream",
     "text": [
      "Epoch 1 [0/80000] Loss: 28.7202\n"
     ]
    },
    {
     "name": "stderr",
     "output_type": "stream",
     "text": [
      "Epoch 1:   8%|▊         | 102/1250 [00:15<02:54,  6.59batch/s, loss=3.19]"
     ]
    },
    {
     "name": "stdout",
     "output_type": "stream",
     "text": [
      "Epoch 1 [6400/80000] Loss: 3.1550\n"
     ]
    },
    {
     "name": "stderr",
     "output_type": "stream",
     "text": [
      "Epoch 1:  16%|█▌        | 202/1250 [00:30<02:35,  6.73batch/s, loss=3.12]"
     ]
    },
    {
     "name": "stdout",
     "output_type": "stream",
     "text": [
      "Epoch 1 [12800/80000] Loss: 3.0612\n"
     ]
    },
    {
     "name": "stderr",
     "output_type": "stream",
     "text": [
      "Epoch 1:  24%|██▍       | 302/1250 [00:45<02:19,  6.78batch/s, loss=3.08]"
     ]
    },
    {
     "name": "stdout",
     "output_type": "stream",
     "text": [
      "Epoch 1 [19200/80000] Loss: 3.1093\n"
     ]
    },
    {
     "name": "stderr",
     "output_type": "stream",
     "text": [
      "Epoch 1:  32%|███▏      | 402/1250 [01:00<02:09,  6.53batch/s, loss=3.06]"
     ]
    },
    {
     "name": "stdout",
     "output_type": "stream",
     "text": [
      "Epoch 1 [25600/80000] Loss: 3.0113\n"
     ]
    },
    {
     "name": "stderr",
     "output_type": "stream",
     "text": [
      "Epoch 1:  40%|████      | 502/1250 [01:16<01:54,  6.54batch/s, loss=2.86]"
     ]
    },
    {
     "name": "stdout",
     "output_type": "stream",
     "text": [
      "Epoch 1 [32000/80000] Loss: 2.9578\n"
     ]
    },
    {
     "name": "stderr",
     "output_type": "stream",
     "text": [
      "Epoch 1:  48%|████▊     | 601/1250 [01:31<01:56,  5.55batch/s, loss=2.36]"
     ]
    },
    {
     "name": "stdout",
     "output_type": "stream",
     "text": [
      "Epoch 1 [38400/80000] Loss: 2.3628\n"
     ]
    },
    {
     "name": "stderr",
     "output_type": "stream",
     "text": [
      "Epoch 1:  56%|█████▌    | 702/1250 [01:50<01:37,  5.65batch/s, loss=0.567]"
     ]
    },
    {
     "name": "stdout",
     "output_type": "stream",
     "text": [
      "Epoch 1 [44800/80000] Loss: 0.5306\n"
     ]
    },
    {
     "name": "stderr",
     "output_type": "stream",
     "text": [
      "Epoch 1:  64%|██████▍   | 802/1250 [02:08<01:20,  5.56batch/s, loss=0.269]"
     ]
    },
    {
     "name": "stdout",
     "output_type": "stream",
     "text": [
      "Epoch 1 [51200/80000] Loss: 0.1349\n"
     ]
    },
    {
     "name": "stderr",
     "output_type": "stream",
     "text": [
      "Epoch 1:  72%|███████▏  | 902/1250 [02:27<01:05,  5.31batch/s, loss=0.11]  "
     ]
    },
    {
     "name": "stdout",
     "output_type": "stream",
     "text": [
      "Epoch 1 [57600/80000] Loss: 0.0676\n"
     ]
    },
    {
     "name": "stderr",
     "output_type": "stream",
     "text": [
      "Epoch 1:  80%|████████  | 1002/1250 [02:45<00:40,  6.19batch/s, loss=0.0476]"
     ]
    },
    {
     "name": "stdout",
     "output_type": "stream",
     "text": [
      "Epoch 1 [64000/80000] Loss: 0.0446\n"
     ]
    },
    {
     "name": "stderr",
     "output_type": "stream",
     "text": [
      "Epoch 1:  88%|████████▊ | 1102/1250 [03:01<00:26,  5.59batch/s, loss=0.0237]"
     ]
    },
    {
     "name": "stdout",
     "output_type": "stream",
     "text": [
      "Epoch 1 [70400/80000] Loss: 0.0292\n"
     ]
    },
    {
     "name": "stderr",
     "output_type": "stream",
     "text": [
      "Epoch 1:  96%|█████████▌| 1202/1250 [03:18<00:08,  5.69batch/s, loss=0.0143] "
     ]
    },
    {
     "name": "stdout",
     "output_type": "stream",
     "text": [
      "Epoch 1 [76800/80000] Loss: 0.0295\n"
     ]
    },
    {
     "name": "stderr",
     "output_type": "stream",
     "text": [
      "Epoch 1: 100%|██████████| 1250/1250 [03:27<00:00,  6.04batch/s, loss=0.0202] \n"
     ]
    },
    {
     "name": "stdout",
     "output_type": "stream",
     "text": [
      "Epoch 1 Training Loss: 1.6366\n"
     ]
    },
    {
     "name": "stderr",
     "output_type": "stream",
     "text": [
      "Validation: 100%|██████████| 157/157 [00:16<00:00,  9.56batch/s, loss=0.00887]\n"
     ]
    },
    {
     "name": "stdout",
     "output_type": "stream",
     "text": [
      "Validation Loss: 0.0159\n",
      "Average Number of Correct Characters: 0.9815\n",
      "Model saved.\n",
      "Starting training...\n"
     ]
    },
    {
     "name": "stderr",
     "output_type": "stream",
     "text": [
      "Epoch 2:   0%|          | 2/1250 [00:00<04:02,  5.15batch/s, loss=0.0464] "
     ]
    },
    {
     "name": "stdout",
     "output_type": "stream",
     "text": [
      "Epoch 2 [0/80000] Loss: 0.0094\n"
     ]
    },
    {
     "name": "stderr",
     "output_type": "stream",
     "text": [
      "Epoch 2:   8%|▊         | 102/1250 [00:15<02:38,  7.24batch/s, loss=0.0712]"
     ]
    },
    {
     "name": "stdout",
     "output_type": "stream",
     "text": [
      "Epoch 2 [6400/80000] Loss: 0.0759\n"
     ]
    },
    {
     "name": "stderr",
     "output_type": "stream",
     "text": [
      "Epoch 2:  16%|█▌        | 202/1250 [00:29<02:39,  6.58batch/s, loss=0.0317] "
     ]
    },
    {
     "name": "stdout",
     "output_type": "stream",
     "text": [
      "Epoch 2 [12800/80000] Loss: 0.0110\n"
     ]
    },
    {
     "name": "stderr",
     "output_type": "stream",
     "text": [
      "Epoch 2:  24%|██▍       | 302/1250 [00:43<02:09,  7.31batch/s, loss=0.0124] "
     ]
    },
    {
     "name": "stdout",
     "output_type": "stream",
     "text": [
      "Epoch 2 [19200/80000] Loss: 0.0270\n"
     ]
    },
    {
     "name": "stderr",
     "output_type": "stream",
     "text": [
      "Epoch 2:  32%|███▏      | 402/1250 [00:57<01:54,  7.39batch/s, loss=0.00685]"
     ]
    },
    {
     "name": "stdout",
     "output_type": "stream",
     "text": [
      "Epoch 2 [25600/80000] Loss: 0.0344\n"
     ]
    },
    {
     "name": "stderr",
     "output_type": "stream",
     "text": [
      "Epoch 2:  40%|████      | 502/1250 [01:11<01:44,  7.16batch/s, loss=0.00522]"
     ]
    },
    {
     "name": "stdout",
     "output_type": "stream",
     "text": [
      "Epoch 2 [32000/80000] Loss: 0.0073\n"
     ]
    },
    {
     "name": "stderr",
     "output_type": "stream",
     "text": [
      "Epoch 2:  48%|████▊     | 602/1250 [01:25<01:32,  7.01batch/s, loss=0.00539]"
     ]
    },
    {
     "name": "stdout",
     "output_type": "stream",
     "text": [
      "Epoch 2 [38400/80000] Loss: 0.0071\n"
     ]
    },
    {
     "name": "stderr",
     "output_type": "stream",
     "text": [
      "Epoch 2:  56%|█████▌    | 702/1250 [01:40<01:22,  6.64batch/s, loss=0.0084] "
     ]
    },
    {
     "name": "stdout",
     "output_type": "stream",
     "text": [
      "Epoch 2 [44800/80000] Loss: 0.0078\n"
     ]
    },
    {
     "name": "stderr",
     "output_type": "stream",
     "text": [
      "Epoch 2:  64%|██████▍   | 802/1250 [01:54<01:08,  6.54batch/s, loss=0.00611]"
     ]
    },
    {
     "name": "stdout",
     "output_type": "stream",
     "text": [
      "Epoch 2 [51200/80000] Loss: 0.0155\n"
     ]
    },
    {
     "name": "stderr",
     "output_type": "stream",
     "text": [
      "Epoch 2:  72%|███████▏  | 902/1250 [02:09<00:51,  6.74batch/s, loss=0.00874]"
     ]
    },
    {
     "name": "stdout",
     "output_type": "stream",
     "text": [
      "Epoch 2 [57600/80000] Loss: 0.0087\n"
     ]
    },
    {
     "name": "stderr",
     "output_type": "stream",
     "text": [
      "Epoch 2:  80%|████████  | 1002/1250 [02:24<00:37,  6.68batch/s, loss=0.00421]"
     ]
    },
    {
     "name": "stdout",
     "output_type": "stream",
     "text": [
      "Epoch 2 [64000/80000] Loss: 0.0061\n"
     ]
    },
    {
     "name": "stderr",
     "output_type": "stream",
     "text": [
      "Epoch 2:  88%|████████▊ | 1102/1250 [02:40<00:23,  6.29batch/s, loss=0.00761]"
     ]
    },
    {
     "name": "stdout",
     "output_type": "stream",
     "text": [
      "Epoch 2 [70400/80000] Loss: 0.0032\n"
     ]
    },
    {
     "name": "stderr",
     "output_type": "stream",
     "text": [
      "Epoch 2:  96%|█████████▌| 1202/1250 [02:56<00:07,  6.19batch/s, loss=0.00644]"
     ]
    },
    {
     "name": "stdout",
     "output_type": "stream",
     "text": [
      "Epoch 2 [76800/80000] Loss: 0.0130\n"
     ]
    },
    {
     "name": "stderr",
     "output_type": "stream",
     "text": [
      "Epoch 2: 100%|██████████| 1250/1250 [03:03<00:00,  6.81batch/s, loss=0.0096] \n"
     ]
    },
    {
     "name": "stdout",
     "output_type": "stream",
     "text": [
      "Epoch 2 Training Loss: 0.0238\n"
     ]
    },
    {
     "name": "stderr",
     "output_type": "stream",
     "text": [
      "Validation: 100%|██████████| 157/157 [00:15<00:00, 10.46batch/s, loss=0.00205]\n"
     ]
    },
    {
     "name": "stdout",
     "output_type": "stream",
     "text": [
      "Validation Loss: 0.0065\n",
      "Average Number of Correct Characters: 0.9920\n",
      "Model saved.\n",
      "Starting training...\n"
     ]
    },
    {
     "name": "stderr",
     "output_type": "stream",
     "text": [
      "Epoch 3:   0%|          | 2/1250 [00:00<03:56,  5.28batch/s, loss=0.00705]"
     ]
    },
    {
     "name": "stdout",
     "output_type": "stream",
     "text": [
      "Epoch 3 [0/80000] Loss: 0.0092\n"
     ]
    },
    {
     "name": "stderr",
     "output_type": "stream",
     "text": [
      "Epoch 3:   8%|▊         | 102/1250 [00:14<02:39,  7.19batch/s, loss=0.00236]"
     ]
    },
    {
     "name": "stdout",
     "output_type": "stream",
     "text": [
      "Epoch 3 [6400/80000] Loss: 0.0053\n"
     ]
    },
    {
     "name": "stderr",
     "output_type": "stream",
     "text": [
      "Epoch 3:  16%|█▌        | 202/1250 [00:29<02:41,  6.47batch/s, loss=0.00122]"
     ]
    },
    {
     "name": "stdout",
     "output_type": "stream",
     "text": [
      "Epoch 3 [12800/80000] Loss: 0.0036\n"
     ]
    },
    {
     "name": "stderr",
     "output_type": "stream",
     "text": [
      "Epoch 3:  24%|██▍       | 302/1250 [00:44<02:20,  6.73batch/s, loss=0.00987] "
     ]
    },
    {
     "name": "stdout",
     "output_type": "stream",
     "text": [
      "Epoch 3 [19200/80000] Loss: 0.0072\n"
     ]
    },
    {
     "name": "stderr",
     "output_type": "stream",
     "text": [
      "Epoch 3:  32%|███▏      | 402/1250 [01:00<02:11,  6.43batch/s, loss=0.0165] "
     ]
    },
    {
     "name": "stdout",
     "output_type": "stream",
     "text": [
      "Epoch 3 [25600/80000] Loss: 0.0025\n"
     ]
    },
    {
     "name": "stderr",
     "output_type": "stream",
     "text": [
      "Epoch 3:  40%|████      | 502/1250 [01:14<01:45,  7.09batch/s, loss=0.0245] "
     ]
    },
    {
     "name": "stdout",
     "output_type": "stream",
     "text": [
      "Epoch 3 [32000/80000] Loss: 0.0226\n"
     ]
    },
    {
     "name": "stderr",
     "output_type": "stream",
     "text": [
      "Epoch 3:  48%|████▊     | 602/1250 [01:28<01:28,  7.29batch/s, loss=0.00456]"
     ]
    },
    {
     "name": "stdout",
     "output_type": "stream",
     "text": [
      "Epoch 3 [38400/80000] Loss: 0.0131\n"
     ]
    },
    {
     "name": "stderr",
     "output_type": "stream",
     "text": [
      "Epoch 3:  56%|█████▌    | 702/1250 [01:42<01:15,  7.27batch/s, loss=0.00291]"
     ]
    },
    {
     "name": "stdout",
     "output_type": "stream",
     "text": [
      "Epoch 3 [44800/80000] Loss: 0.0143\n"
     ]
    },
    {
     "name": "stderr",
     "output_type": "stream",
     "text": [
      "Epoch 3:  64%|██████▍   | 802/1250 [01:56<01:03,  7.03batch/s, loss=0.0157]  "
     ]
    },
    {
     "name": "stdout",
     "output_type": "stream",
     "text": [
      "Epoch 3 [51200/80000] Loss: 0.0038\n"
     ]
    },
    {
     "name": "stderr",
     "output_type": "stream",
     "text": [
      "Epoch 3:  72%|███████▏  | 902/1250 [02:10<00:48,  7.24batch/s, loss=0.00435] "
     ]
    },
    {
     "name": "stdout",
     "output_type": "stream",
     "text": [
      "Epoch 3 [57600/80000] Loss: 0.0196\n"
     ]
    },
    {
     "name": "stderr",
     "output_type": "stream",
     "text": [
      "Epoch 3:  80%|████████  | 1002/1250 [02:23<00:34,  7.26batch/s, loss=0.019] "
     ]
    },
    {
     "name": "stdout",
     "output_type": "stream",
     "text": [
      "Epoch 3 [64000/80000] Loss: 0.0336\n"
     ]
    },
    {
     "name": "stderr",
     "output_type": "stream",
     "text": [
      "Epoch 3:  88%|████████▊ | 1102/1250 [02:37<00:20,  7.16batch/s, loss=0.0208] "
     ]
    },
    {
     "name": "stdout",
     "output_type": "stream",
     "text": [
      "Epoch 3 [70400/80000] Loss: 0.0392\n"
     ]
    },
    {
     "name": "stderr",
     "output_type": "stream",
     "text": [
      "Epoch 3:  96%|█████████▌| 1202/1250 [02:51<00:06,  7.21batch/s, loss=0.0132] "
     ]
    },
    {
     "name": "stdout",
     "output_type": "stream",
     "text": [
      "Epoch 3 [76800/80000] Loss: 0.0037\n"
     ]
    },
    {
     "name": "stderr",
     "output_type": "stream",
     "text": [
      "Epoch 3: 100%|██████████| 1250/1250 [02:58<00:00,  7.00batch/s, loss=0.0234] \n"
     ]
    },
    {
     "name": "stdout",
     "output_type": "stream",
     "text": [
      "Epoch 3 Training Loss: 0.0178\n"
     ]
    },
    {
     "name": "stderr",
     "output_type": "stream",
     "text": [
      "Validation: 100%|██████████| 157/157 [00:14<00:00, 10.56batch/s, loss=0.00933]\n"
     ]
    },
    {
     "name": "stdout",
     "output_type": "stream",
     "text": [
      "Validation Loss: 0.0072\n",
      "Average Number of Correct Characters: 0.9896\n",
      "Starting training...\n"
     ]
    },
    {
     "name": "stderr",
     "output_type": "stream",
     "text": [
      "Epoch 4:   0%|          | 2/1250 [00:00<03:36,  5.78batch/s, loss=0.0232] "
     ]
    },
    {
     "name": "stdout",
     "output_type": "stream",
     "text": [
      "Epoch 4 [0/80000] Loss: 0.0036\n"
     ]
    },
    {
     "name": "stderr",
     "output_type": "stream",
     "text": [
      "Epoch 4:   8%|▊         | 102/1250 [00:14<02:40,  7.16batch/s, loss=0.00998]"
     ]
    },
    {
     "name": "stdout",
     "output_type": "stream",
     "text": [
      "Epoch 4 [6400/80000] Loss: 0.0010\n"
     ]
    },
    {
     "name": "stderr",
     "output_type": "stream",
     "text": [
      "Epoch 4:  16%|█▌        | 202/1250 [00:28<02:24,  7.23batch/s, loss=0.00419] "
     ]
    },
    {
     "name": "stdout",
     "output_type": "stream",
     "text": [
      "Epoch 4 [12800/80000] Loss: 0.0020\n"
     ]
    },
    {
     "name": "stderr",
     "output_type": "stream",
     "text": [
      "Epoch 4:  24%|██▍       | 302/1250 [00:42<02:11,  7.22batch/s, loss=0.0113]  "
     ]
    },
    {
     "name": "stdout",
     "output_type": "stream",
     "text": [
      "Epoch 4 [19200/80000] Loss: 0.0017\n"
     ]
    },
    {
     "name": "stderr",
     "output_type": "stream",
     "text": [
      "Epoch 4:  32%|███▏      | 402/1250 [00:56<01:56,  7.28batch/s, loss=0.00794] "
     ]
    },
    {
     "name": "stdout",
     "output_type": "stream",
     "text": [
      "Epoch 4 [25600/80000] Loss: 0.0023\n"
     ]
    },
    {
     "name": "stderr",
     "output_type": "stream",
     "text": [
      "Epoch 4:  40%|████      | 502/1250 [01:10<01:43,  7.20batch/s, loss=0.0784]  "
     ]
    },
    {
     "name": "stdout",
     "output_type": "stream",
     "text": [
      "Epoch 4 [32000/80000] Loss: 0.0637\n"
     ]
    },
    {
     "name": "stderr",
     "output_type": "stream",
     "text": [
      "Epoch 4:  48%|████▊     | 602/1250 [01:24<01:29,  7.26batch/s, loss=0.00559]"
     ]
    },
    {
     "name": "stdout",
     "output_type": "stream",
     "text": [
      "Epoch 4 [38400/80000] Loss: 0.0221\n"
     ]
    },
    {
     "name": "stderr",
     "output_type": "stream",
     "text": [
      "Epoch 4:  56%|█████▌    | 702/1250 [01:38<01:24,  6.49batch/s, loss=0.0086] "
     ]
    },
    {
     "name": "stdout",
     "output_type": "stream",
     "text": [
      "Epoch 4 [44800/80000] Loss: 0.0226\n"
     ]
    },
    {
     "name": "stderr",
     "output_type": "stream",
     "text": [
      "Epoch 4:  64%|██████▍   | 802/1250 [01:53<01:07,  6.62batch/s, loss=0.00512]"
     ]
    },
    {
     "name": "stdout",
     "output_type": "stream",
     "text": [
      "Epoch 4 [51200/80000] Loss: 0.0069\n"
     ]
    },
    {
     "name": "stderr",
     "output_type": "stream",
     "text": [
      "Epoch 4:  72%|███████▏  | 902/1250 [02:08<00:52,  6.58batch/s, loss=0.00517]"
     ]
    },
    {
     "name": "stdout",
     "output_type": "stream",
     "text": [
      "Epoch 4 [57600/80000] Loss: 0.0110\n"
     ]
    },
    {
     "name": "stderr",
     "output_type": "stream",
     "text": [
      "Epoch 4:  80%|████████  | 1002/1250 [02:22<00:35,  7.04batch/s, loss=0.00382]"
     ]
    },
    {
     "name": "stdout",
     "output_type": "stream",
     "text": [
      "Epoch 4 [64000/80000] Loss: 0.0017\n"
     ]
    },
    {
     "name": "stderr",
     "output_type": "stream",
     "text": [
      "Epoch 4:  88%|████████▊ | 1102/1250 [02:37<00:20,  7.24batch/s, loss=0.00174] "
     ]
    },
    {
     "name": "stdout",
     "output_type": "stream",
     "text": [
      "Epoch 4 [70400/80000] Loss: 0.0027\n"
     ]
    },
    {
     "name": "stderr",
     "output_type": "stream",
     "text": [
      "Epoch 4:  96%|█████████▌| 1202/1250 [02:51<00:06,  7.15batch/s, loss=0.00313] "
     ]
    },
    {
     "name": "stdout",
     "output_type": "stream",
     "text": [
      "Epoch 4 [76800/80000] Loss: 0.0006\n"
     ]
    },
    {
     "name": "stderr",
     "output_type": "stream",
     "text": [
      "Epoch 4: 100%|██████████| 1250/1250 [02:58<00:00,  7.02batch/s, loss=0.00496] \n"
     ]
    },
    {
     "name": "stdout",
     "output_type": "stream",
     "text": [
      "Epoch 4 Training Loss: 0.0166\n"
     ]
    },
    {
     "name": "stderr",
     "output_type": "stream",
     "text": [
      "Validation: 100%|██████████| 157/157 [00:20<00:00,  7.59batch/s, loss=0.000833]\n"
     ]
    },
    {
     "name": "stdout",
     "output_type": "stream",
     "text": [
      "Validation Loss: 0.0031\n",
      "Average Number of Correct Characters: 0.9958\n",
      "Model saved.\n",
      "Starting training...\n"
     ]
    },
    {
     "name": "stderr",
     "output_type": "stream",
     "text": [
      "Epoch 5:   0%|          | 1/1250 [00:00<04:26,  4.69batch/s, loss=0.00186]"
     ]
    },
    {
     "name": "stdout",
     "output_type": "stream",
     "text": [
      "Epoch 5 [0/80000] Loss: 0.0022\n"
     ]
    },
    {
     "name": "stderr",
     "output_type": "stream",
     "text": [
      "Epoch 5:   8%|▊         | 101/1250 [00:20<03:53,  4.93batch/s, loss=0.00104] "
     ]
    },
    {
     "name": "stdout",
     "output_type": "stream",
     "text": [
      "Epoch 5 [6400/80000] Loss: 0.0010\n"
     ]
    },
    {
     "name": "stderr",
     "output_type": "stream",
     "text": [
      "Epoch 5:  16%|█▌        | 201/1250 [00:39<03:07,  5.59batch/s, loss=0.00396] "
     ]
    },
    {
     "name": "stdout",
     "output_type": "stream",
     "text": [
      "Epoch 5 [12800/80000] Loss: 0.0040\n"
     ]
    },
    {
     "name": "stderr",
     "output_type": "stream",
     "text": [
      "Epoch 5:  24%|██▍       | 301/1250 [00:58<03:04,  5.15batch/s, loss=0.00148] "
     ]
    },
    {
     "name": "stdout",
     "output_type": "stream",
     "text": [
      "Epoch 5 [19200/80000] Loss: 0.0039\n"
     ]
    },
    {
     "name": "stderr",
     "output_type": "stream",
     "text": [
      "Epoch 5:  32%|███▏      | 401/1250 [01:18<02:57,  4.79batch/s, loss=0.00421] "
     ]
    },
    {
     "name": "stdout",
     "output_type": "stream",
     "text": [
      "Epoch 5 [25600/80000] Loss: 0.0032\n"
     ]
    },
    {
     "name": "stderr",
     "output_type": "stream",
     "text": [
      "Epoch 5:  40%|████      | 502/1250 [01:37<02:12,  5.63batch/s, loss=0.00375] "
     ]
    },
    {
     "name": "stdout",
     "output_type": "stream",
     "text": [
      "Epoch 5 [32000/80000] Loss: 0.0017\n"
     ]
    },
    {
     "name": "stderr",
     "output_type": "stream",
     "text": [
      "Epoch 5:  48%|████▊     | 602/1250 [01:55<01:57,  5.53batch/s, loss=0.000866]"
     ]
    },
    {
     "name": "stdout",
     "output_type": "stream",
     "text": [
      "Epoch 5 [38400/80000] Loss: 0.0095\n"
     ]
    },
    {
     "name": "stderr",
     "output_type": "stream",
     "text": [
      "Epoch 5:  56%|█████▌    | 702/1250 [02:12<01:36,  5.69batch/s, loss=0.739]   "
     ]
    },
    {
     "name": "stdout",
     "output_type": "stream",
     "text": [
      "Epoch 5 [44800/80000] Loss: 0.0043\n"
     ]
    },
    {
     "name": "stderr",
     "output_type": "stream",
     "text": [
      "Epoch 5:  64%|██████▍   | 802/1250 [02:30<01:19,  5.61batch/s, loss=0.0204] "
     ]
    },
    {
     "name": "stdout",
     "output_type": "stream",
     "text": [
      "Epoch 5 [51200/80000] Loss: 0.0176\n"
     ]
    },
    {
     "name": "stderr",
     "output_type": "stream",
     "text": [
      "Epoch 5:  72%|███████▏  | 902/1250 [02:48<01:02,  5.57batch/s, loss=0.0429]  "
     ]
    },
    {
     "name": "stdout",
     "output_type": "stream",
     "text": [
      "Epoch 5 [57600/80000] Loss: 0.0056\n"
     ]
    },
    {
     "name": "stderr",
     "output_type": "stream",
     "text": [
      "Epoch 5:  80%|████████  | 1001/1250 [03:07<00:49,  5.03batch/s, loss=0.0208]"
     ]
    },
    {
     "name": "stdout",
     "output_type": "stream",
     "text": [
      "Epoch 5 [64000/80000] Loss: 0.0208\n"
     ]
    },
    {
     "name": "stderr",
     "output_type": "stream",
     "text": [
      "Epoch 5:  88%|████████▊ | 1102/1250 [03:26<00:26,  5.66batch/s, loss=0.00914]"
     ]
    },
    {
     "name": "stdout",
     "output_type": "stream",
     "text": [
      "Epoch 5 [70400/80000] Loss: 0.0098\n"
     ]
    },
    {
     "name": "stderr",
     "output_type": "stream",
     "text": [
      "Epoch 5:  96%|█████████▌| 1201/1250 [03:44<00:09,  5.44batch/s, loss=0.00376]"
     ]
    },
    {
     "name": "stdout",
     "output_type": "stream",
     "text": [
      "Epoch 5 [76800/80000] Loss: 0.0038\n"
     ]
    },
    {
     "name": "stderr",
     "output_type": "stream",
     "text": [
      "Epoch 5: 100%|██████████| 1250/1250 [03:53<00:00,  5.36batch/s, loss=0.00487]\n"
     ]
    },
    {
     "name": "stdout",
     "output_type": "stream",
     "text": [
      "Epoch 5 Training Loss: 0.0126\n"
     ]
    },
    {
     "name": "stderr",
     "output_type": "stream",
     "text": [
      "Validation: 100%|██████████| 157/157 [00:20<00:00,  7.80batch/s, loss=0.0065] \n"
     ]
    },
    {
     "name": "stdout",
     "output_type": "stream",
     "text": [
      "Validation Loss: 0.0081\n",
      "Average Number of Correct Characters: 0.9879\n",
      "Starting training...\n"
     ]
    },
    {
     "name": "stderr",
     "output_type": "stream",
     "text": [
      "Epoch 6:   0%|          | 2/1250 [00:00<03:33,  5.84batch/s, loss=0.0361] "
     ]
    },
    {
     "name": "stdout",
     "output_type": "stream",
     "text": [
      "Epoch 6 [0/80000] Loss: 0.0081\n"
     ]
    },
    {
     "name": "stderr",
     "output_type": "stream",
     "text": [
      "Epoch 6:   8%|▊         | 102/1250 [00:15<02:47,  6.85batch/s, loss=0.033]  "
     ]
    },
    {
     "name": "stdout",
     "output_type": "stream",
     "text": [
      "Epoch 6 [6400/80000] Loss: 0.0026\n"
     ]
    },
    {
     "name": "stderr",
     "output_type": "stream",
     "text": [
      "Epoch 6:  16%|█▌        | 202/1250 [00:29<02:32,  6.88batch/s, loss=0.0351] "
     ]
    },
    {
     "name": "stdout",
     "output_type": "stream",
     "text": [
      "Epoch 6 [12800/80000] Loss: 0.0835\n"
     ]
    },
    {
     "name": "stderr",
     "output_type": "stream",
     "text": [
      "Epoch 6:  24%|██▍       | 302/1250 [00:45<02:36,  6.05batch/s, loss=0.0152] "
     ]
    },
    {
     "name": "stdout",
     "output_type": "stream",
     "text": [
      "Epoch 6 [19200/80000] Loss: 0.0195\n"
     ]
    },
    {
     "name": "stderr",
     "output_type": "stream",
     "text": [
      "Epoch 6:  32%|███▏      | 402/1250 [01:02<02:18,  6.11batch/s, loss=0.0138] "
     ]
    },
    {
     "name": "stdout",
     "output_type": "stream",
     "text": [
      "Epoch 6 [25600/80000] Loss: 0.0469\n"
     ]
    },
    {
     "name": "stderr",
     "output_type": "stream",
     "text": [
      "Epoch 6:  40%|████      | 502/1250 [01:18<02:02,  6.11batch/s, loss=0.00598]"
     ]
    },
    {
     "name": "stdout",
     "output_type": "stream",
     "text": [
      "Epoch 6 [32000/80000] Loss: 0.0078\n"
     ]
    },
    {
     "name": "stderr",
     "output_type": "stream",
     "text": [
      "Epoch 6:  48%|████▊     | 602/1250 [01:35<01:54,  5.68batch/s, loss=0.00319]"
     ]
    },
    {
     "name": "stdout",
     "output_type": "stream",
     "text": [
      "Epoch 6 [38400/80000] Loss: 0.0188\n"
     ]
    },
    {
     "name": "stderr",
     "output_type": "stream",
     "text": [
      "Epoch 6:  56%|█████▌    | 701/1250 [01:52<01:40,  5.45batch/s, loss=0.00257] "
     ]
    },
    {
     "name": "stdout",
     "output_type": "stream",
     "text": [
      "Epoch 6 [44800/80000] Loss: 0.0026\n"
     ]
    },
    {
     "name": "stderr",
     "output_type": "stream",
     "text": [
      "Epoch 6:  64%|██████▍   | 801/1250 [02:10<01:21,  5.49batch/s, loss=0.00192]"
     ]
    },
    {
     "name": "stdout",
     "output_type": "stream",
     "text": [
      "Epoch 6 [51200/80000] Loss: 0.0041\n"
     ]
    },
    {
     "name": "stderr",
     "output_type": "stream",
     "text": [
      "Epoch 6:  72%|███████▏  | 901/1250 [02:28<01:00,  5.81batch/s, loss=0.0045]  "
     ]
    },
    {
     "name": "stdout",
     "output_type": "stream",
     "text": [
      "Epoch 6 [57600/80000] Loss: 0.0033\n"
     ]
    },
    {
     "name": "stderr",
     "output_type": "stream",
     "text": [
      "Epoch 6:  80%|████████  | 1002/1250 [02:45<00:38,  6.49batch/s, loss=0.0141] "
     ]
    },
    {
     "name": "stdout",
     "output_type": "stream",
     "text": [
      "Epoch 6 [64000/80000] Loss: 0.0091\n"
     ]
    },
    {
     "name": "stderr",
     "output_type": "stream",
     "text": [
      "Epoch 6:  88%|████████▊ | 1102/1250 [03:01<00:23,  6.18batch/s, loss=0.00304] "
     ]
    },
    {
     "name": "stdout",
     "output_type": "stream",
     "text": [
      "Epoch 6 [70400/80000] Loss: 0.0081\n"
     ]
    },
    {
     "name": "stderr",
     "output_type": "stream",
     "text": [
      "Epoch 6:  96%|█████████▌| 1201/1250 [03:18<00:09,  5.42batch/s, loss=0.00586] "
     ]
    },
    {
     "name": "stdout",
     "output_type": "stream",
     "text": [
      "Epoch 6 [76800/80000] Loss: 0.0034\n"
     ]
    },
    {
     "name": "stderr",
     "output_type": "stream",
     "text": [
      "Epoch 6: 100%|██████████| 1250/1250 [03:26<00:00,  6.04batch/s, loss=0.00626] \n"
     ]
    },
    {
     "name": "stdout",
     "output_type": "stream",
     "text": [
      "Epoch 6 Training Loss: 0.0110\n"
     ]
    },
    {
     "name": "stderr",
     "output_type": "stream",
     "text": [
      "Validation: 100%|██████████| 157/157 [00:14<00:00, 10.76batch/s, loss=0.0132]  \n"
     ]
    },
    {
     "name": "stdout",
     "output_type": "stream",
     "text": [
      "Validation Loss: 0.0057\n",
      "Average Number of Correct Characters: 0.9917\n",
      "Starting training...\n"
     ]
    },
    {
     "name": "stderr",
     "output_type": "stream",
     "text": [
      "Epoch 7:   0%|          | 1/1250 [00:00<03:35,  5.80batch/s, loss=0.00185]"
     ]
    },
    {
     "name": "stdout",
     "output_type": "stream",
     "text": [
      "Epoch 7 [0/80000] Loss: 0.0018\n"
     ]
    },
    {
     "name": "stderr",
     "output_type": "stream",
     "text": [
      "Epoch 7:   8%|▊         | 102/1250 [00:14<02:41,  7.11batch/s, loss=0.0337] "
     ]
    },
    {
     "name": "stdout",
     "output_type": "stream",
     "text": [
      "Epoch 7 [6400/80000] Loss: 0.0038\n"
     ]
    },
    {
     "name": "stderr",
     "output_type": "stream",
     "text": [
      "Epoch 7:  16%|█▌        | 202/1250 [00:28<02:25,  7.19batch/s, loss=0.0194] "
     ]
    },
    {
     "name": "stdout",
     "output_type": "stream",
     "text": [
      "Epoch 7 [12800/80000] Loss: 0.0335\n"
     ]
    },
    {
     "name": "stderr",
     "output_type": "stream",
     "text": [
      "Epoch 7:  24%|██▍       | 302/1250 [00:42<02:12,  7.17batch/s, loss=0.00131] "
     ]
    },
    {
     "name": "stdout",
     "output_type": "stream",
     "text": [
      "Epoch 7 [19200/80000] Loss: 0.0031\n"
     ]
    },
    {
     "name": "stderr",
     "output_type": "stream",
     "text": [
      "Epoch 7:  32%|███▏      | 402/1250 [00:58<02:18,  6.11batch/s, loss=0.00242] "
     ]
    },
    {
     "name": "stdout",
     "output_type": "stream",
     "text": [
      "Epoch 7 [25600/80000] Loss: 0.0014\n"
     ]
    },
    {
     "name": "stderr",
     "output_type": "stream",
     "text": [
      "Epoch 7:  40%|████      | 502/1250 [01:14<02:01,  6.17batch/s, loss=0.0244]  "
     ]
    },
    {
     "name": "stdout",
     "output_type": "stream",
     "text": [
      "Epoch 7 [32000/80000] Loss: 0.0109\n"
     ]
    },
    {
     "name": "stderr",
     "output_type": "stream",
     "text": [
      "Epoch 7:  48%|████▊     | 602/1250 [01:31<01:45,  6.15batch/s, loss=0.033]  "
     ]
    },
    {
     "name": "stdout",
     "output_type": "stream",
     "text": [
      "Epoch 7 [38400/80000] Loss: 0.0015\n"
     ]
    },
    {
     "name": "stderr",
     "output_type": "stream",
     "text": [
      "Epoch 7:  56%|█████▌    | 702/1250 [01:47<01:30,  6.02batch/s, loss=0.00788] "
     ]
    },
    {
     "name": "stdout",
     "output_type": "stream",
     "text": [
      "Epoch 7 [44800/80000] Loss: 0.0192\n"
     ]
    },
    {
     "name": "stderr",
     "output_type": "stream",
     "text": [
      "Epoch 7:  64%|██████▍   | 802/1250 [02:04<01:15,  5.91batch/s, loss=0.00979] "
     ]
    },
    {
     "name": "stdout",
     "output_type": "stream",
     "text": [
      "Epoch 7 [51200/80000] Loss: 0.0019\n"
     ]
    },
    {
     "name": "stderr",
     "output_type": "stream",
     "text": [
      "Epoch 7:  72%|███████▏  | 901/1250 [02:20<00:59,  5.88batch/s, loss=0.00252] "
     ]
    },
    {
     "name": "stdout",
     "output_type": "stream",
     "text": [
      "Epoch 7 [57600/80000] Loss: 0.0025\n"
     ]
    },
    {
     "name": "stderr",
     "output_type": "stream",
     "text": [
      "Epoch 7:  80%|████████  | 1002/1250 [02:37<00:40,  6.07batch/s, loss=0.00106] "
     ]
    },
    {
     "name": "stdout",
     "output_type": "stream",
     "text": [
      "Epoch 7 [64000/80000] Loss: 0.0009\n"
     ]
    },
    {
     "name": "stderr",
     "output_type": "stream",
     "text": [
      "Epoch 7:  88%|████████▊ | 1102/1250 [02:54<00:24,  5.97batch/s, loss=0.0382]  "
     ]
    },
    {
     "name": "stdout",
     "output_type": "stream",
     "text": [
      "Epoch 7 [70400/80000] Loss: 0.0073\n"
     ]
    },
    {
     "name": "stderr",
     "output_type": "stream",
     "text": [
      "Epoch 7:  96%|█████████▌| 1202/1250 [03:10<00:07,  6.19batch/s, loss=0.00521]"
     ]
    },
    {
     "name": "stdout",
     "output_type": "stream",
     "text": [
      "Epoch 7 [76800/80000] Loss: 0.0129\n"
     ]
    },
    {
     "name": "stderr",
     "output_type": "stream",
     "text": [
      "Epoch 7: 100%|██████████| 1250/1250 [03:18<00:00,  6.29batch/s, loss=0.00244] \n"
     ]
    },
    {
     "name": "stdout",
     "output_type": "stream",
     "text": [
      "Epoch 7 Training Loss: 0.0117\n"
     ]
    },
    {
     "name": "stderr",
     "output_type": "stream",
     "text": [
      "Validation: 100%|██████████| 157/157 [00:15<00:00, 10.30batch/s, loss=0.000981]\n"
     ]
    },
    {
     "name": "stdout",
     "output_type": "stream",
     "text": [
      "Validation Loss: 0.0044\n",
      "Average Number of Correct Characters: 0.9936\n",
      "Starting training...\n"
     ]
    },
    {
     "name": "stderr",
     "output_type": "stream",
     "text": [
      "Epoch 8:   0%|          | 2/1250 [00:00<03:35,  5.78batch/s, loss=0.0076]  "
     ]
    },
    {
     "name": "stdout",
     "output_type": "stream",
     "text": [
      "Epoch 8 [0/80000] Loss: 0.0008\n"
     ]
    },
    {
     "name": "stderr",
     "output_type": "stream",
     "text": [
      "Epoch 8:   8%|▊         | 101/1250 [00:20<04:02,  4.75batch/s, loss=0.00426]"
     ]
    },
    {
     "name": "stdout",
     "output_type": "stream",
     "text": [
      "Epoch 8 [6400/80000] Loss: 0.0043\n"
     ]
    },
    {
     "name": "stderr",
     "output_type": "stream",
     "text": [
      "Epoch 8:  16%|█▌        | 201/1250 [00:41<03:41,  4.75batch/s, loss=0.00368] "
     ]
    },
    {
     "name": "stdout",
     "output_type": "stream",
     "text": [
      "Epoch 8 [12800/80000] Loss: 0.0005\n"
     ]
    },
    {
     "name": "stderr",
     "output_type": "stream",
     "text": [
      "Epoch 8:  24%|██▍       | 301/1250 [01:03<03:21,  4.70batch/s, loss=0.00391] "
     ]
    },
    {
     "name": "stdout",
     "output_type": "stream",
     "text": [
      "Epoch 8 [19200/80000] Loss: 0.0071\n"
     ]
    },
    {
     "name": "stderr",
     "output_type": "stream",
     "text": [
      "Epoch 8:  32%|███▏      | 401/1250 [01:24<03:00,  4.71batch/s, loss=0.0155] "
     ]
    },
    {
     "name": "stdout",
     "output_type": "stream",
     "text": [
      "Epoch 8 [25600/80000] Loss: 0.0155\n"
     ]
    },
    {
     "name": "stderr",
     "output_type": "stream",
     "text": [
      "Epoch 8:  40%|████      | 501/1250 [01:46<02:37,  4.76batch/s, loss=0.037]  "
     ]
    },
    {
     "name": "stdout",
     "output_type": "stream",
     "text": [
      "Epoch 8 [32000/80000] Loss: 0.0069\n"
     ]
    },
    {
     "name": "stderr",
     "output_type": "stream",
     "text": [
      "Epoch 8:  48%|████▊     | 601/1250 [02:07<02:15,  4.78batch/s, loss=0.000498]"
     ]
    },
    {
     "name": "stdout",
     "output_type": "stream",
     "text": [
      "Epoch 8 [38400/80000] Loss: 0.0005\n"
     ]
    },
    {
     "name": "stderr",
     "output_type": "stream",
     "text": [
      "Epoch 8:  56%|█████▌    | 701/1250 [02:28<01:58,  4.64batch/s, loss=0.00407] "
     ]
    },
    {
     "name": "stdout",
     "output_type": "stream",
     "text": [
      "Epoch 8 [44800/80000] Loss: 0.0041\n"
     ]
    },
    {
     "name": "stderr",
     "output_type": "stream",
     "text": [
      "Epoch 8:  64%|██████▍   | 801/1250 [02:49<01:34,  4.74batch/s, loss=0.00116] "
     ]
    },
    {
     "name": "stdout",
     "output_type": "stream",
     "text": [
      "Epoch 8 [51200/80000] Loss: 0.0012\n"
     ]
    },
    {
     "name": "stderr",
     "output_type": "stream",
     "text": [
      "Epoch 8:  72%|███████▏  | 901/1250 [03:11<01:14,  4.68batch/s, loss=0.000274]"
     ]
    },
    {
     "name": "stdout",
     "output_type": "stream",
     "text": [
      "Epoch 8 [57600/80000] Loss: 0.0003\n"
     ]
    },
    {
     "name": "stderr",
     "output_type": "stream",
     "text": [
      "Epoch 8:  80%|████████  | 1001/1250 [03:32<00:52,  4.72batch/s, loss=0.00047]"
     ]
    },
    {
     "name": "stdout",
     "output_type": "stream",
     "text": [
      "Epoch 8 [64000/80000] Loss: 0.0005\n"
     ]
    },
    {
     "name": "stderr",
     "output_type": "stream",
     "text": [
      "Epoch 8:  88%|████████▊ | 1101/1250 [03:54<00:31,  4.71batch/s, loss=0.0309]  "
     ]
    },
    {
     "name": "stdout",
     "output_type": "stream",
     "text": [
      "Epoch 8 [70400/80000] Loss: 0.0263\n"
     ]
    },
    {
     "name": "stderr",
     "output_type": "stream",
     "text": [
      "Epoch 8:  96%|█████████▌| 1201/1250 [04:15<00:10,  4.83batch/s, loss=0.0109] "
     ]
    },
    {
     "name": "stdout",
     "output_type": "stream",
     "text": [
      "Epoch 8 [76800/80000] Loss: 0.0109\n"
     ]
    },
    {
     "name": "stderr",
     "output_type": "stream",
     "text": [
      "Epoch 8: 100%|██████████| 1250/1250 [04:26<00:00,  4.69batch/s, loss=0.0135] \n"
     ]
    },
    {
     "name": "stdout",
     "output_type": "stream",
     "text": [
      "Epoch 8 Training Loss: 0.0092\n"
     ]
    },
    {
     "name": "stderr",
     "output_type": "stream",
     "text": [
      "Validation: 100%|██████████| 157/157 [00:22<00:00,  6.95batch/s, loss=0.00229]\n"
     ]
    },
    {
     "name": "stdout",
     "output_type": "stream",
     "text": [
      "Validation Loss: 0.0138\n",
      "Average Number of Correct Characters: 0.9777\n",
      "Starting training...\n"
     ]
    },
    {
     "name": "stderr",
     "output_type": "stream",
     "text": [
      "Epoch 9:   0%|          | 1/1250 [00:00<03:52,  5.38batch/s, loss=0.00322]"
     ]
    },
    {
     "name": "stdout",
     "output_type": "stream",
     "text": [
      "Epoch 9 [0/80000] Loss: 0.0089\n"
     ]
    },
    {
     "name": "stderr",
     "output_type": "stream",
     "text": [
      "Epoch 9:   8%|▊         | 101/1250 [00:19<03:41,  5.20batch/s, loss=0.0106] "
     ]
    },
    {
     "name": "stdout",
     "output_type": "stream",
     "text": [
      "Epoch 9 [6400/80000] Loss: 0.0070\n"
     ]
    },
    {
     "name": "stderr",
     "output_type": "stream",
     "text": [
      "Epoch 9:  16%|█▌        | 201/1250 [00:39<03:17,  5.32batch/s, loss=0.104]  "
     ]
    },
    {
     "name": "stdout",
     "output_type": "stream",
     "text": [
      "Epoch 9 [12800/80000] Loss: 0.1037\n"
     ]
    },
    {
     "name": "stderr",
     "output_type": "stream",
     "text": [
      "Epoch 9:  24%|██▍       | 301/1250 [00:59<03:05,  5.12batch/s, loss=0.0036] "
     ]
    },
    {
     "name": "stdout",
     "output_type": "stream",
     "text": [
      "Epoch 9 [19200/80000] Loss: 0.0020\n"
     ]
    },
    {
     "name": "stderr",
     "output_type": "stream",
     "text": [
      "Epoch 9:  32%|███▏      | 402/1250 [01:17<02:14,  6.29batch/s, loss=0.0127]  "
     ]
    },
    {
     "name": "stdout",
     "output_type": "stream",
     "text": [
      "Epoch 9 [25600/80000] Loss: 0.0008\n"
     ]
    },
    {
     "name": "stderr",
     "output_type": "stream",
     "text": [
      "Epoch 9:  40%|████      | 501/1250 [01:34<02:05,  5.97batch/s, loss=0.00243] "
     ]
    },
    {
     "name": "stdout",
     "output_type": "stream",
     "text": [
      "Epoch 9 [32000/80000] Loss: 0.0056\n"
     ]
    },
    {
     "name": "stderr",
     "output_type": "stream",
     "text": [
      "Epoch 9:  48%|████▊     | 602/1250 [01:51<01:48,  5.96batch/s, loss=0.00287] "
     ]
    },
    {
     "name": "stdout",
     "output_type": "stream",
     "text": [
      "Epoch 9 [38400/80000] Loss: 0.0008\n"
     ]
    },
    {
     "name": "stderr",
     "output_type": "stream",
     "text": [
      "Epoch 9:  56%|█████▌    | 702/1250 [02:08<01:37,  5.60batch/s, loss=0.0492]  "
     ]
    },
    {
     "name": "stdout",
     "output_type": "stream",
     "text": [
      "Epoch 9 [44800/80000] Loss: 0.0182\n"
     ]
    },
    {
     "name": "stderr",
     "output_type": "stream",
     "text": [
      "Epoch 9:  64%|██████▍   | 802/1250 [02:25<01:14,  5.99batch/s, loss=0.00225] "
     ]
    },
    {
     "name": "stdout",
     "output_type": "stream",
     "text": [
      "Epoch 9 [51200/80000] Loss: 0.0011\n"
     ]
    },
    {
     "name": "stderr",
     "output_type": "stream",
     "text": [
      "Epoch 9:  72%|███████▏  | 901/1250 [02:44<01:05,  5.35batch/s, loss=0.0143]  "
     ]
    },
    {
     "name": "stdout",
     "output_type": "stream",
     "text": [
      "Epoch 9 [57600/80000] Loss: 0.0143\n"
     ]
    },
    {
     "name": "stderr",
     "output_type": "stream",
     "text": [
      "Epoch 9:  80%|████████  | 1001/1250 [03:03<00:47,  5.23batch/s, loss=0.00131] "
     ]
    },
    {
     "name": "stdout",
     "output_type": "stream",
     "text": [
      "Epoch 9 [64000/80000] Loss: 0.0005\n"
     ]
    },
    {
     "name": "stderr",
     "output_type": "stream",
     "text": [
      "Epoch 9:  88%|████████▊ | 1101/1250 [03:23<00:28,  5.26batch/s, loss=0.00127] "
     ]
    },
    {
     "name": "stdout",
     "output_type": "stream",
     "text": [
      "Epoch 9 [70400/80000] Loss: 0.0034\n"
     ]
    },
    {
     "name": "stderr",
     "output_type": "stream",
     "text": [
      "Epoch 9:  96%|█████████▌| 1201/1250 [03:43<00:09,  5.15batch/s, loss=0.00482]"
     ]
    },
    {
     "name": "stdout",
     "output_type": "stream",
     "text": [
      "Epoch 9 [76800/80000] Loss: 0.0102\n"
     ]
    },
    {
     "name": "stderr",
     "output_type": "stream",
     "text": [
      "Epoch 9: 100%|██████████| 1250/1250 [03:52<00:00,  5.37batch/s, loss=0.0299]  \n"
     ]
    },
    {
     "name": "stdout",
     "output_type": "stream",
     "text": [
      "Epoch 9 Training Loss: 0.0130\n"
     ]
    },
    {
     "name": "stderr",
     "output_type": "stream",
     "text": [
      "Validation: 100%|██████████| 157/157 [00:16<00:00,  9.26batch/s, loss=0.022]  \n"
     ]
    },
    {
     "name": "stdout",
     "output_type": "stream",
     "text": [
      "Validation Loss: 0.0128\n",
      "Average Number of Correct Characters: 0.9783\n",
      "Starting training...\n"
     ]
    },
    {
     "name": "stderr",
     "output_type": "stream",
     "text": [
      "Epoch 10:   0%|          | 2/1250 [00:00<03:54,  5.33batch/s, loss=0.0158] "
     ]
    },
    {
     "name": "stdout",
     "output_type": "stream",
     "text": [
      "Epoch 10 [0/80000] Loss: 0.0036\n"
     ]
    },
    {
     "name": "stderr",
     "output_type": "stream",
     "text": [
      "Epoch 10:   8%|▊         | 102/1250 [00:15<02:47,  6.84batch/s, loss=0.00165]"
     ]
    },
    {
     "name": "stdout",
     "output_type": "stream",
     "text": [
      "Epoch 10 [6400/80000] Loss: 0.0056\n"
     ]
    },
    {
     "name": "stderr",
     "output_type": "stream",
     "text": [
      "Epoch 10:  16%|█▌        | 202/1250 [00:30<02:39,  6.56batch/s, loss=0.0216]  "
     ]
    },
    {
     "name": "stdout",
     "output_type": "stream",
     "text": [
      "Epoch 10 [12800/80000] Loss: 0.0012\n"
     ]
    },
    {
     "name": "stderr",
     "output_type": "stream",
     "text": [
      "Epoch 10:  24%|██▍       | 302/1250 [00:45<02:15,  6.98batch/s, loss=0.0152] "
     ]
    },
    {
     "name": "stdout",
     "output_type": "stream",
     "text": [
      "Epoch 10 [19200/80000] Loss: 0.0064\n"
     ]
    },
    {
     "name": "stderr",
     "output_type": "stream",
     "text": [
      "Epoch 10:  32%|███▏      | 402/1250 [00:59<02:03,  6.87batch/s, loss=0.00138] "
     ]
    },
    {
     "name": "stdout",
     "output_type": "stream",
     "text": [
      "Epoch 10 [25600/80000] Loss: 0.0008\n"
     ]
    },
    {
     "name": "stderr",
     "output_type": "stream",
     "text": [
      "Epoch 10:  40%|████      | 502/1250 [01:14<01:50,  6.79batch/s, loss=0.00523] "
     ]
    },
    {
     "name": "stdout",
     "output_type": "stream",
     "text": [
      "Epoch 10 [32000/80000] Loss: 0.0003\n"
     ]
    },
    {
     "name": "stderr",
     "output_type": "stream",
     "text": [
      "Epoch 10:  48%|████▊     | 602/1250 [01:29<01:36,  6.70batch/s, loss=0.000356]"
     ]
    },
    {
     "name": "stdout",
     "output_type": "stream",
     "text": [
      "Epoch 10 [38400/80000] Loss: 0.0241\n"
     ]
    },
    {
     "name": "stderr",
     "output_type": "stream",
     "text": [
      "Epoch 10:  56%|█████▌    | 702/1250 [01:44<01:16,  7.17batch/s, loss=0.00208] "
     ]
    },
    {
     "name": "stdout",
     "output_type": "stream",
     "text": [
      "Epoch 10 [44800/80000] Loss: 0.0057\n"
     ]
    },
    {
     "name": "stderr",
     "output_type": "stream",
     "text": [
      "Epoch 10:  64%|██████▍   | 802/1250 [01:58<01:02,  7.20batch/s, loss=0.0536]  "
     ]
    },
    {
     "name": "stdout",
     "output_type": "stream",
     "text": [
      "Epoch 10 [51200/80000] Loss: 0.0395\n"
     ]
    },
    {
     "name": "stderr",
     "output_type": "stream",
     "text": [
      "Epoch 10:  72%|███████▏  | 902/1250 [02:11<00:48,  7.24batch/s, loss=0.00235]"
     ]
    },
    {
     "name": "stdout",
     "output_type": "stream",
     "text": [
      "Epoch 10 [57600/80000] Loss: 0.0050\n"
     ]
    },
    {
     "name": "stderr",
     "output_type": "stream",
     "text": [
      "Epoch 10:  80%|████████  | 1002/1250 [02:25<00:33,  7.32batch/s, loss=0.0244] "
     ]
    },
    {
     "name": "stdout",
     "output_type": "stream",
     "text": [
      "Epoch 10 [64000/80000] Loss: 0.0077\n"
     ]
    },
    {
     "name": "stderr",
     "output_type": "stream",
     "text": [
      "Epoch 10:  88%|████████▊ | 1102/1250 [02:39<00:20,  7.29batch/s, loss=0.00888]"
     ]
    },
    {
     "name": "stdout",
     "output_type": "stream",
     "text": [
      "Epoch 10 [70400/80000] Loss: 0.0158\n"
     ]
    },
    {
     "name": "stderr",
     "output_type": "stream",
     "text": [
      "Epoch 10:  96%|█████████▌| 1202/1250 [02:53<00:06,  7.40batch/s, loss=0.0215] "
     ]
    },
    {
     "name": "stdout",
     "output_type": "stream",
     "text": [
      "Epoch 10 [76800/80000] Loss: 0.0071\n"
     ]
    },
    {
     "name": "stderr",
     "output_type": "stream",
     "text": [
      "Epoch 10: 100%|██████████| 1250/1250 [02:59<00:00,  6.96batch/s, loss=0.00912]\n"
     ]
    },
    {
     "name": "stdout",
     "output_type": "stream",
     "text": [
      "Epoch 10 Training Loss: 0.0127\n"
     ]
    },
    {
     "name": "stderr",
     "output_type": "stream",
     "text": [
      "Validation: 100%|██████████| 157/157 [00:14<00:00, 10.59batch/s, loss=0.00715]\n"
     ]
    },
    {
     "name": "stdout",
     "output_type": "stream",
     "text": [
      "Validation Loss: 0.0120\n",
      "Average Number of Correct Characters: 0.9830\n",
      "Best Val Loss is 0.0031037973753505854\n"
     ]
    }
   ],
   "source": [
    "num_epochs = 10\n",
    "best_val_loss = float('inf')\n",
    "train_losses = []\n",
    "val_losses = []\n",
    "val_anccs = []\n",
    "\n",
    "for epoch in range(1, num_epochs + 1):\n",
    "    train_loss = train(model, device, train_loader, criterion, optimizer, epoch)\n",
    "    val_loss = validate(model, device, val_loader, criterion)\n",
    "    ancc = evaluate(model, device, val_loader)\n",
    "    \n",
    "    train_losses.append(train_loss)\n",
    "    val_losses.append(val_loss)\n",
    "    val_anccs.append(ancc)\n",
    "    \n",
    "    if val_loss < best_val_loss:\n",
    "        best_val_loss = val_loss\n",
    "        torch.save(model.state_dict(), 'best_crnn_model.pth')\n",
    "\n",
    "print(\"Best Val Loss is\", best_val_loss)"
   ]
  },
  {
   "cell_type": "code",
   "execution_count": 50,
   "metadata": {},
   "outputs": [
    {
     "name": "stdout",
     "output_type": "stream",
     "text": [
      "Train Losses: [1.6365810707956552, 0.023803371134400366, 0.01775458631115034, 0.016598885860154407, 0.012571660961047747, 0.010991549122217111, 0.011705429450049997, 0.009192742662900127, 0.013043958176037995, 0.012722370652941755]\n",
      "Validation Losses: [0.01592323559508392, 0.00653806720507349, 0.007231277888225522, 0.0031037973753505854, 0.008068690686723941, 0.005674016703836691, 0.004437067297177543, 0.013757963977742252, 0.012805731187034755, 0.012009803652110847]\n",
      "Validation ANCCs: [0.9815465821015408, 0.9919989985708771, 0.9895580150840262, 0.9957960839948676, 0.9879202612060962, 0.991706915076724, 0.9935741631286314, 0.9776869073573746, 0.9783336636658565, 0.9830382942323942]\n"
     ]
    }
   ],
   "source": [
    "# Average Number of Correct Characters: 0.9910\n",
    "print(\"Train Losses:\", train_losses)\n",
    "print(\"Validation Losses:\", val_losses)\n",
    "print(\"Validation ANCCs:\", val_anccs)"
   ]
  },
  {
   "cell_type": "code",
   "execution_count": 51,
   "metadata": {},
   "outputs": [
    {
     "data": {
      "image/png": "[encoded data removed]",
      "text/plain": [
       "<Figure size 1200x500 with 2 Axes>"
      ]
     },
     "metadata": {},
     "output_type": "display_data"
    }
   ],
   "source": [
    "def plot_metrics(train_losses, val_losses, val_anccs, save_path=\"metrics_plot.png\"):\n",
    "    epochs = range(1, len(train_losses) + 1)\n",
    "    \n",
    "    plt.figure(figsize=(12, 5))\n",
    "    \n",
    "    plt.subplot(1, 2, 1)\n",
    "    plt.plot(epochs, train_losses, label='Training Loss')\n",
    "    plt.plot(epochs, val_losses, label='Validation Loss')\n",
    "    plt.xlabel('Epoch')\n",
    "    plt.ylabel('Loss')\n",
    "    plt.title('Loss Over Epochs')\n",
    "    plt.legend()\n",
    "    \n",
    "    plt.subplot(1, 2, 2)\n",
    "    plt.plot(epochs, val_anccs, label='Validation ANCC')\n",
    "    plt.xlabel('Epoch')\n",
    "    plt.ylabel('ANCC')\n",
    "    plt.title('ANCC Over Epochs')\n",
    "    plt.legend()\n",
    "    \n",
    "    plt.tight_layout()\n",
    "    \n",
    "    plt.savefig(save_path)\n",
    "    plt.show()\n",
    "\n",
    "plot_metrics(train_losses, val_losses, val_anccs, save_path=\"metrics_plot.png\")"
   ]
  },
  {
   "cell_type": "code",
   "execution_count": 52,
   "metadata": {},
   "outputs": [],
   "source": [
    "# AI Usage in some places, label_lengths_cpu changed some stuff, and enumerate(zip()). Just wanted it to implement, I just have to port the image if true or false. \n",
    "def display_predictions(model, device, data_loader, num_examples=5, output_dir=\"predictions\", mismatched_dir=\"mismatches\"):\n",
    "    model.eval()\n",
    "    examples = 0\n",
    "    os.makedirs(output_dir, exist_ok=True)\n",
    "    os.makedirs(mismatched_dir, exist_ok=True)\n",
    "    \n",
    "    mismatches = []  \n",
    "    \n",
    "    with torch.no_grad():\n",
    "        for images, labels, label_lengths in data_loader:\n",
    "            images = images.to(device)\n",
    "            outputs = model(images)\n",
    "            predictions = decode_predictions(outputs)\n",
    "            \n",
    "            labels_cpu = labels.cpu().numpy()\n",
    "            label_lengths_cpu = label_lengths.cpu().numpy()\n",
    "            idx = 0\n",
    "            ground_truths = []\n",
    "            for length in label_lengths_cpu:\n",
    "                word_indices = labels_cpu[idx:idx+length]\n",
    "                word = ''.join([idx_to_char[i] for i in word_indices])\n",
    "                ground_truths.append(word)\n",
    "                idx += length\n",
    "\n",
    "            for i, (img, pred, gt) in enumerate(zip(images.cpu(), predictions, ground_truths)):\n",
    "                if pred != gt:\n",
    "                    mismatches.append((pred, gt))\n",
    "                    save_path = os.path.join(mismatched_dir, f\"mismatch_{examples + 1}.png\")\n",
    "                else:\n",
    "                    save_path = os.path.join(output_dir, f\"prediction_{examples + 1}.png\")\n",
    "                \n",
    "                plt.imshow(img.squeeze(0), cmap='gray')\n",
    "                plt.title(f'Prediction: {pred}\\nGround Truth: {gt}')\n",
    "                plt.axis('off')\n",
    "                plt.savefig(save_path)\n",
    "                plt.close()  \n",
    "                \n",
    "                examples += 1\n",
    "                if examples >= num_examples:\n",
    "                    break\n",
    "    \n",
    "    if mismatches:\n",
    "        print(\"\\nMismatched Predictions:\")\n",
    "        for pred, gt in mismatches:\n",
    "            print(f\"Prediction: {pred} | Ground Truth: {gt}\")\n",
    "    else:\n",
    "        print(\"All predictions matched the ground truth.\")"
   ]
  },
  {
   "cell_type": "code",
   "execution_count": 53,
   "metadata": {},
   "outputs": [
    {
     "name": "stdout",
     "output_type": "stream",
     "text": [
      "\n",
      "Mismatched Predictions:\n",
      "Prediction: utracentenarianis | Ground Truth: ultracentenarianism\n",
      "Prediction: kanthian | Ground Truth: xanthian\n",
      "Prediction: rlowrightia | Ground Truth: plowrightia\n",
      "Prediction: gsolgotha | Ground Truth: golgotha\n"
     ]
    }
   ],
   "source": [
    "display_predictions(model, device, test_loader, num_examples=5, output_dir=\"predictions\", mismatched_dir=\"mismatches\")"
   ]
  }
 ],
 "metadata": {
  "kernelspec": {
   "display_name": "Python 3",
   "language": "python",
   "name": "python3"
  },
  "language_info": {
   "codemirror_mode": {
    "name": "ipython",
    "version": 3
   },
   "file_extension": ".py",
   "mimetype": "text/x-python",
   "name": "python",
   "nbconvert_exporter": "python",
   "pygments_lexer": "ipython3",
   "version": "3.12.1"
  }
 },
 "nbformat": 4,
 "nbformat_minor": 2
}
